{
  "nbformat": 4,
  "nbformat_minor": 0,
  "metadata": {
    "colab": {
      "name": "class105B",
      "provenance": [],
      "include_colab_link": true
    },
    "kernelspec": {
      "name": "python3",
      "display_name": "Python 3"
    }
  },
  "cells": [
    {
      "cell_type": "markdown",
      "metadata": {
        "id": "view-in-github",
        "colab_type": "text"
      },
      "source": [
        "<a href=\"https://colab.research.google.com/github/kalravm41/class105/blob/main/class105B.ipynb\" target=\"_parent\"><img src=\"https://colab.research.google.com/assets/colab-badge.svg\" alt=\"Open In Colab\"/></a>"
      ]
    },
    {
      "cell_type": "code",
      "metadata": {
        "colab": {
          "base_uri": "https://localhost:8080/"
        },
        "id": "jghrkhIco03I",
        "outputId": "3f54cfc4-40f0-49c6-a99d-26c16c9d6e7b"
      },
      "source": [
        "# Done, Mam It is Working Now \n",
        "\n",
        "import csv\n",
        "import math\n",
        "\n",
        "with open('class2.csv', newline='') as f:\n",
        "    reader = csv.reader(f)\n",
        "    File_data = list(reader)\n",
        "\n",
        "#To remove headers from CSV\n",
        "data = File_data[1]\n",
        "\n",
        "def mean(data):\n",
        "  n = len(data)\n",
        "  total = 0\n",
        "  for x in data:\n",
        "    total += int(x)\n",
        "  mean = total/n\n",
        "  return mean\n",
        "\n",
        "squaredList = []\n",
        "\n",
        "for no in data:\n",
        "  a = int(no) - mean(data)\n",
        "  a = a**2\n",
        "  squaredList.append(a)\n",
        "\n",
        "sum = 0\n",
        "for i in squaredList:\n",
        "  sum = sum+i\n",
        "\n",
        "result = sum/(len(data)-1)\n",
        "\n",
        "SD = math.sqrt(result)\n",
        "\n",
        "print(SD)\n"
      ],
      "execution_count": null,
      "outputs": [
        {
          "output_type": "stream",
          "text": [
            "['1', '60']\n",
            "41.71930009000631\n"
          ],
          "name": "stdout"
        }
      ]
    },
    {
      "cell_type": "code",
      "metadata": {
        "id": "Y5H_wKxnoGbf"
      },
      "source": [
        ""
      ],
      "execution_count": null,
      "outputs": []
    }
  ]
}